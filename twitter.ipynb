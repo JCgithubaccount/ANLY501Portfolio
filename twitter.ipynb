{
 "cells": [
  {
   "cell_type": "code",
   "execution_count": 20,
   "metadata": {},
   "outputs": [],
   "source": [
    "import tweepy\n",
    "import csv\n",
    "import configparser"
   ]
  },
  {
   "cell_type": "code",
   "execution_count": 21,
   "metadata": {},
   "outputs": [],
   "source": [
    "consumer_key = 'OWT5FR2nNLwKnpSFRZcCcwZGB'\n",
    "consumer_secret = 'Gd8JDznllYGKK4AkjajhzsssgPTWVunSfTHMdg8EG6RU0TPgda'\n",
    "access_token = '1300518729235795968-SbOQnrUMJtKMMNLxeEik5boM2PmZFg'\n",
    "access_token_secret = 'ZwJjzo0Xf5gAvH1ButGbtZMj6AxyylVpmvPePEoDhMSp0'"
   ]
  },
  {
   "cell_type": "code",
   "execution_count": 22,
   "metadata": {},
   "outputs": [],
   "source": [
    "auth = tweepy.OAuthHandler(consumer_key, consumer_secret)\n",
    "auth.set_access_token(access_token, access_token_secret)\n",
    "api = tweepy.API(auth,wait_on_rate_limit=True)"
   ]
  },
  {
   "cell_type": "code",
   "execution_count": 23,
   "metadata": {},
   "outputs": [],
   "source": [
    "# pause and wait if you've hit Twitter's rate limit\n",
    "# from http://docs.tweepy.org/en/v3.9.0/code_snippet.html\n",
    "def limit_handled(cursor):\n",
    "    while True:\n",
    "        try:\n",
    "            yield cursor.next()\n",
    "        except tweepy.RateLimitError:\n",
    "            time.sleep(15 * 60)\n",
    "        except StopIteration:\n",
    "            return\n",
    "        \n",
    "# create an outputfile name based on the query you ran\n",
    "def get_output_file_name(query_string):\n",
    "    file_name = query_string + '.csv'\n",
    "    if query_string[0:1] == '#':\n",
    "        file_name = query_string[1:len(query_string)] + '_hashtag.csv'\n",
    "        file_name = file_name.replace(\"#\",\"\")\n",
    "        file_name = file_name.replace(\" \",\"_\")\n",
    "    return file_name"
   ]
  },
  {
   "cell_type": "code",
   "execution_count": 24,
   "metadata": {
    "scrolled": false
   },
   "outputs": [
    {
     "name": "stdout",
     "output_type": "stream",
     "text": [
      "appending to csv file creditcardfraud_hashtag.csv\n",
      "2020-09-08 18:08:00 Using Technology to Protect Cards From E-commerce Fraud: The majority of card-not-present fraud may be prevented th… https://t.co/rfqdKCbwoO\n",
      "2020-09-07 12:43:44 @ICICIBank_Care @ICICIBank  Tried to reach Icici credit card support on call. But each time it just transfer to 5 o… https://t.co/whn6bi7UJE\n",
      "2020-09-07 05:48:22 Thread on online fraudsters who fleece unsuspecting people out of hard earned money. \n",
      "#creditcardfraud\n",
      "#onlinefrauds https://t.co/xGsWF5Xff0\n",
      "2020-09-05 11:08:44 RT @SphoorthiN: @AxisBank How would you like to respond to this, Is it not your responsibility to curtail a fraud transaction when it is re…\n",
      "2020-09-04 09:45:08 I have been getting calls from the number +912248883000 having few details of my card and telling me to pay the cre… https://t.co/xQsSdcw1q6\n",
      "2020-09-04 08:59:08 RT @seon_tech: Credit card fraud can happen in a lot of ways.\n",
      "Here are some of them which are discussed below.\n",
      "\n",
      "#CreditCard #CreditCardFrau…\n",
      "2020-09-03 22:20:01 RT @AlamoAreaCOG: #TBT to late April/early May when our Alamo Area Regional Law Enforcement Academy staff distributed credit card skimmer d…\n",
      "2020-09-03 22:10:11 #TBT to late April/early May when our Alamo Area Regional Law Enforcement Academy staff distributed credit card ski… https://t.co/4LFsN6BnAY\n",
      "2020-09-03 14:45:15 RT @SphoorthiN: @AxisBank How would you like to respond to this, Is it not your responsibility to curtail a fraud transaction when it is re…\n",
      "2020-09-03 14:07:16 RT @SvcFacilitators: Fraud Detection with Python, TensorFlow and Linear Regression\n",
      "\n",
      "Create a credit card fraud detection model, coding in P…\n",
      "2020-09-03 13:18:48 RT @SvcFacilitators: Fraud Detection with Python, TensorFlow and Linear Regression\n",
      "\n",
      "Create a credit card fraud detection model, coding in P…\n",
      "2020-09-03 13:11:40 Fraud Detection with Python, TensorFlow and Linear Regression\n",
      "\n",
      "Create a credit card fraud detection model, coding i… https://t.co/RJj8ueBAUd\n",
      "2020-09-02 17:04:39 RT @SphoorthiN: @AxisBank How would you like to respond to this, Is it not your responsibility to curtail a fraud transaction when it is re…\n",
      "2020-09-02 17:01:39 RT @SphoorthiN: @AxisBank How would you like to respond to this, Is it not your responsibility to curtail a fraud transaction when it is re…\n",
      "2020-09-02 16:52:19 RT @SphoorthiN: @AxisBank How would you like to respond to this, Is it not your responsibility to curtail a fraud transaction when it is re…\n",
      "2020-09-02 16:32:30 @AxisBank How would you like to respond to this, Is it not your responsibility to curtail a fraud transaction when… https://t.co/q8kwEMRiiy\n",
      "2020-09-02 12:37:07 @MumbaiPolice Pls, catch real #CyberCriminals like #OnlineBankFrauds &amp; #Identitytheft #CreditCardfraud #Hacking...… https://t.co/wAWjfEvc0t\n",
      "2020-09-02 02:11:35 RT @richmorriswww: How to Protect Yourself from Identity Theft in America Richard Morris Pr... https://t.co/b1omEiBcPE \n",
      "\n",
      "https://t.co/GyTMq…\n",
      "2020-09-02 02:11:29 RT @richmorriswww: How to Protect Yourself from Identity Theft in America Richard Morris Pr... https://t.co/b1omEiBcPE \n",
      "\n",
      "https://t.co/GyTMq…\n",
      "2020-09-02 02:07:15 How to Protect Yourself from Identity Theft in America Richard Morris Pr... https://t.co/b1omEiBcPE… https://t.co/uV7kxIWZfX\n",
      "2020-09-02 00:06:17 3 Ways To Avoid Credit Card Fraud https://t.co/5kNzrKYDl7 #featured #worldmoney #creditcard #creditcardfraud\n",
      "2020-09-01 14:42:08 RT @CalSAIG: UPDATE: CYBERSECURITY\n",
      "American Payroll Association discloses credit card theft incident\n",
      "#calgroups #calsaig #knowledgeark #cyb…\n",
      "2020-09-01 14:21:48 Fraud: Why Everything Old Is New Again. https://t.co/ItOcHDmqTZ #creditcardfraud #creditcardprocessing\n",
      "2020-09-01 11:41:09 RT @CalSAIG: UPDATE: CYBERSECURITY\n",
      "American Payroll Association discloses credit card theft incident\n",
      "#calgroups #calsaig #knowledgeark #cyb…\n",
      "2020-09-01 11:41:08 RT @CalSAIG: UPDATE: CYBERSECURITY\n",
      "American Payroll Association discloses credit card theft incident\n",
      "#calgroups #calsaig #knowledgeark #cyb…\n",
      "2020-09-01 11:41:05 UPDATE: CYBERSECURITY\n",
      "American Payroll Association discloses credit card theft incident\n",
      "#calgroups #calsaig… https://t.co/xcAW07nqBW\n",
      "Done.\n"
     ]
    }
   ],
   "source": [
    "# specify your search term and the maximum number of tweets to return\n",
    "query = \"#creditcardfraud\"\n",
    "max_items = 5000\n",
    "\n",
    "\n",
    "# create an output filename based on the query\n",
    "file_name = get_output_file_name(query)\n",
    "\n",
    "# Open/Create a file to append data\n",
    "print(\"appending to csv file \"+file_name)\n",
    "csvFile = open(file_name, 'a')\n",
    "csvWriter = csv.writer(csvFile)\n",
    "\n",
    "\n",
    "# get the tweets that match your query and write them to a csv file\n",
    "for tweet in limit_handled(tweepy.Cursor(api.search,q=query,count=100,\n",
    "                           lang=\"en\",\n",
    "                           since=\"2020-01-01\").items(max_items)):\n",
    "    print (tweet.created_at, tweet.text)\n",
    "    csvWriter.writerow([tweet.created_at, tweet.text.encode('utf-8')])\n",
    "csvFile.close()\n",
    "\n",
    "# inform us when you have finished\n",
    "print('Done.')"
   ]
  },
  {
   "cell_type": "code",
   "execution_count": null,
   "metadata": {},
   "outputs": [],
   "source": []
  }
 ],
 "metadata": {
  "kernelspec": {
   "display_name": "Python 3",
   "language": "python",
   "name": "python3"
  },
  "language_info": {
   "codemirror_mode": {
    "name": "ipython",
    "version": 3
   },
   "file_extension": ".py",
   "mimetype": "text/x-python",
   "name": "python",
   "nbconvert_exporter": "python",
   "pygments_lexer": "ipython3",
   "version": "3.7.6"
  }
 },
 "nbformat": 4,
 "nbformat_minor": 4
}
